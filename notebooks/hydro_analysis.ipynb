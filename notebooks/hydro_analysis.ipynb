{
 "cells": [
  {
   "cell_type": "code",
   "execution_count": 1,
   "metadata": {},
   "outputs": [],
   "source": [
    "%load_ext autoreload\n",
    "%autoreload 2\n",
    "\n",
    "import sys\n",
    "sys.path.append('./libs')\n",
    "\n",
    "import matplotlib.pyplot as plt\n",
    "import colorcet as cc\n",
    "import numpy as np\n",
    "import pandas as pd\n",
    "import h5py\n",
    "from ipywidgets import interact, widgets\n",
    "import vismesh_funcs as atsvis\n",
    "import ats_xdmf as ats_xdmf\n",
    "import pyvista as pv\n",
    "# pv.set_plot_theme('dark')\n",
    "# pv.global_theme.axes.show = False\n",
    "pv.global_theme.smooth_shading = True"
   ]
  },
  {
   "cell_type": "markdown",
   "metadata": {},
   "source": [
    "### Visualize exodus2 mesh"
   ]
  },
  {
   "cell_type": "code",
   "execution_count": null,
   "metadata": {},
   "outputs": [],
   "source": [
    "domain_mesh = atsvis.load_mesh_exodus('../data/toy_catchment.exo', z_scale=20)\n",
    "atsvis.plot_mesh(domain_mesh, show_scalar_bar=True, set_background=False, cmap='jet', \n",
    "                 opacity=1, show_toplayer=True, window_size=[1200, 600])"
   ]
  },
  {
   "cell_type": "markdown",
   "metadata": {},
   "source": [
    "### Plot surface and subsurface data"
   ]
  },
  {
   "cell_type": "code",
   "execution_count": 3,
   "metadata": {},
   "outputs": [],
   "source": [
    "data_directory = '../1.Hydrology/results/'\n",
    "domain = h5py.File(f'{data_directory}/ats_vis_data.h5', 'r')\n",
    "domain_polygons = atsvis.GetMeshPolygons(f'{data_directory}/ats_vis_mesh.h5')\n",
    "surface = h5py.File(f'{data_directory}/ats_vis_surface_data.h5', 'r')\n",
    "surface_polygons = atsvis.GetMeshPolygons(f'{data_directory}/ats_vis_surface_mesh.h5')"
   ]
  },
  {
   "cell_type": "code",
   "execution_count": 4,
   "metadata": {},
   "outputs": [
    {
     "name": "stdout",
     "output_type": "stream",
     "text": [
      "Number of times: 49\n",
      "Number of surface elements: 1659\n",
      "Number of layers: 7\n"
     ]
    }
   ],
   "source": [
    "# loading domain mesh file\n",
    "vis_domain = ats_xdmf.VisFile(data_directory, time_unit='hr')\n",
    "vis_domain.loadMesh()\n",
    "\n",
    "# loading surface mesh file\n",
    "vis_surface = ats_xdmf.VisFile(data_directory, domain='surface', time_unit='hr')\n",
    "vis_surface.loadMesh()\n",
    "\n",
    "# getting time and number of steps\n",
    "time = vis_domain.times\n",
    "num_steps = len(vis_domain.cycles)\n",
    "num_surface_elements = np.shape(vis_surface.centroids)[0]\n",
    "num_layers = int(np.shape(vis_domain.centroids)[0] / num_surface_elements)\n",
    "print(f'Number of times: {num_steps}')\n",
    "print(f'Number of surface elements: {num_surface_elements}')\n",
    "print(f'Number of layers: {num_layers}')"
   ]
  },
  {
   "cell_type": "code",
   "execution_count": 17,
   "metadata": {},
   "outputs": [
    {
     "data": {
      "text/plain": [
       "['0',\n",
       " '11',\n",
       " '12',\n",
       " '13',\n",
       " '14',\n",
       " '15',\n",
       " '16',\n",
       " '18',\n",
       " '20',\n",
       " '22',\n",
       " '24',\n",
       " '26',\n",
       " '27',\n",
       " '28',\n",
       " '29',\n",
       " '30',\n",
       " '31',\n",
       " '32',\n",
       " '33',\n",
       " '34',\n",
       " '35',\n",
       " '36',\n",
       " '37',\n",
       " '38',\n",
       " '39',\n",
       " '40',\n",
       " '42',\n",
       " '44',\n",
       " '46',\n",
       " '48',\n",
       " '49',\n",
       " '50',\n",
       " '52',\n",
       " '54',\n",
       " '56',\n",
       " '58',\n",
       " '60',\n",
       " '62',\n",
       " '64',\n",
       " '66',\n",
       " '68',\n",
       " '71',\n",
       " '72',\n",
       " '74',\n",
       " '77',\n",
       " '80',\n",
       " '83',\n",
       " '86',\n",
       " '89']"
      ]
     },
     "execution_count": 17,
     "metadata": {},
     "output_type": "execute_result"
    }
   ],
   "source": [
    "vis_domain.cycles"
   ]
  },
  {
   "cell_type": "code",
   "execution_count": 5,
   "metadata": {},
   "outputs": [
    {
     "data": {
      "application/vnd.jupyter.widget-view+json": {
       "model_id": "3a95d5aaf387454e84a0ba02f93e81b3",
       "version_major": 2,
       "version_minor": 0
      },
      "text/plain": [
       "interactive(children=(IntSlider(value=0, description='step', max=48), Output()), _dom_classes=('widget-interac…"
      ]
     },
     "metadata": {},
     "output_type": "display_data"
    },
    {
     "data": {
      "text/plain": [
       "<function __main__.<lambda>(step)>"
      ]
     },
     "execution_count": 5,
     "metadata": {},
     "output_type": "execute_result"
    }
   ],
   "source": [
    "vars_surface = ['pres_elev', 'ponded_depth', 'overland_conductivity']\n",
    "interact(\n",
    "    lambda step: atsvis.plot_surface(\n",
    "        vars_surface,\n",
    "        surface_polygons,\n",
    "        vis_surface,\n",
    "        step,\n",
    "        time,\n",
    "        vmin=[None, 0, None],\n",
    "        vmax=[None, 1, None],\n",
    "        cmap=[None, cc.cm.CET_L17, None]\n",
    "    ),\n",
    "    step=widgets.IntSlider(min=0, max=num_steps-1, step=1)\n",
    ")"
   ]
  },
  {
   "cell_type": "code",
   "execution_count": 6,
   "metadata": {},
   "outputs": [
    {
     "data": {
      "application/vnd.jupyter.widget-view+json": {
       "model_id": "61071267602043fe9332250efe3a53f4",
       "version_major": 2,
       "version_minor": 0
      },
      "text/plain": [
       "interactive(children=(IntSlider(value=0, description='step', max=48), IntSlider(value=0, description='layer', …"
      ]
     },
     "metadata": {},
     "output_type": "display_data"
    },
    {
     "data": {
      "text/plain": [
       "<function __main__.<lambda>(step, layer)>"
      ]
     },
     "execution_count": 6,
     "metadata": {},
     "output_type": "execute_result"
    }
   ],
   "source": [
    "vars_subsurface = ['pressure', 'saturation_liquid']\n",
    "interact(\n",
    "    lambda step, layer: atsvis.plot_domain(\n",
    "        vars_subsurface,\n",
    "        surface_polygons,\n",
    "        vis_domain,\n",
    "        num_surface_elements,\n",
    "        step,\n",
    "        time,\n",
    "        layer,\n",
    "        vmin=[None, 0.8],\n",
    "        vmax=[None, 1],\n",
    "        cmap = [cc.cm.CET_R4, cc.cm.CET_R4]\n",
    "    ),\n",
    "    step=widgets.IntSlider(min=0, max=num_steps-1, step=1),\n",
    "    layer=widgets.IntSlider(min=0, max=num_layers-1, step=1)\n",
    ")"
   ]
  },
  {
   "cell_type": "code",
   "execution_count": 7,
   "metadata": {},
   "outputs": [],
   "source": [
    "fname = f'{data_directory}/observations.csv'\n",
    "num_lines = atsvis.get_skip_number(fname)\n",
    "ts_all = pd.read_csv(fname,skiprows=num_lines,sep=\",\")  "
   ]
  },
  {
   "cell_type": "code",
   "execution_count": 8,
   "metadata": {},
   "outputs": [
    {
     "data": {
      "image/png": "[encoded data removed]",
      "text/plain": [
       "<Figure size 1200x400 with 1 Axes>"
      ]
     },
     "metadata": {},
     "output_type": "display_data"
    }
   ],
   "source": [
    "fig,ax = plt.subplots(1,1,figsize=(12,4))\n",
    "ax.plot(ts_all['time [h]'], ts_all['surface-flux-outlet']/55500)\n",
    "ax.plot(ts_all['time [h]'], -ts_all['surface-flux-left-branch']/55500)\n",
    "ax.plot(ts_all['time [h]'], -ts_all['surface-flux-right-branch']/55500)\n",
    "ax.set_xlabel('Time (hr)')\n",
    "ax.set_ylabel('Discharge (m$^3$/s)')\n",
    "plt.show()\n"
   ]
  },
  {
   "cell_type": "code",
   "execution_count": 9,
   "metadata": {},
   "outputs": [],
   "source": [
    "domain['saturation_liquid']\n",
    "cycles = list(sorted(domain['saturation_liquid'].keys(), key=int))\n",
    "times = np.array([domain['saturation_liquid'][cycle].attrs['Time'] for cycle in cycles])"
   ]
  },
  {
   "cell_type": "code",
   "execution_count": 10,
   "metadata": {},
   "outputs": [
    {
     "name": "stdout",
     "output_type": "stream",
     "text": [
      "24\n",
      "5.0\n"
     ]
    }
   ],
   "source": [
    "print(cycles[10])\n",
    "print(times[10])"
   ]
  },
  {
   "cell_type": "code",
   "execution_count": 13,
   "metadata": {},
   "outputs": [
    {
     "data": {
      "application/vnd.jupyter.widget-view+json": {
       "model_id": "6c281867f2754efcadb88f49657e82e6",
       "version_major": 2,
       "version_minor": 0
      },
      "text/plain": [
       "Widget(value='<iframe src=\"http://localhost:55425/index.html?ui=P_0x12de6e0d0_3&reconnect=auto\" class=\"pyvista…"
      ]
     },
     "metadata": {},
     "output_type": "display_data"
    }
   ],
   "source": [
    "p = pv.Plotter()\n",
    "p.enable_anti_aliasing()  # Sharper quality in local rendering\n",
    "def create_mesh(value) -> None:\n",
    "    steps = int(value)\n",
    "    domain_mesh[\"saturation_liquid\"] = domain['saturation_liquid'][str(steps)]\n",
    "    p.add_mesh(\n",
    "        domain_mesh,\n",
    "        scalars=\"saturation_liquid\",\n",
    "        show_scalar_bar=True,\n",
    "        lighting=False,\n",
    "        cmap='jet',\n",
    "        show_edges=True\n",
    "    )    \n",
    "p.add_slider_widget(create_mesh, [int(cycles[0]), int(cycles[-1])], title=\"Step\")\n",
    "p.show(interactive_update=True)"
   ]
  },
  {
   "cell_type": "code",
   "execution_count": null,
   "metadata": {},
   "outputs": [],
   "source": []
  }
 ],
 "metadata": {
  "kernelspec": {
   "display_name": "pyvista",
   "language": "python",
   "name": "python3"
  },
  "language_info": {
   "codemirror_mode": {
    "name": "ipython",
    "version": 3
   },
   "file_extension": ".py",
   "mimetype": "text/x-python",
   "name": "python",
   "nbconvert_exporter": "python",
   "pygments_lexer": "ipython3",
   "version": "3.13.0"
  }
 },
 "nbformat": 4,
 "nbformat_minor": 2
}
